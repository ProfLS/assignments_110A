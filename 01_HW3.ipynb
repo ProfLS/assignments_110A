{
  "cells": [
    {
      "cell_type": "markdown",
      "id": "bfb71530-eb63-4a5e-b621-f07eaf42f9ce",
      "metadata": {
        "id": "bfb71530-eb63-4a5e-b621-f07eaf42f9ce"
      },
      "source": [
        "Q1: In the code, we are calling two functions, greet() and say_goodbye().\n",
        "\n",
        "- The greet() function is already defined but it has a bug. It should print \"Hello, World!\".\n",
        "- The say_goodbye() function is not defined. Define it so that it prints \"Goodbye, World!\"."
      ]
    },
    {
      "cell_type": "code",
      "execution_count": 2,
      "id": "1ea6aa4d-9282-4318-8872-d6ef5d18278c",
      "metadata": {
        "colab": {
          "base_uri": "https://localhost:8080/",
          "height": 0
        },
        "id": "1ea6aa4d-9282-4318-8872-d6ef5d18278c",
        "outputId": "18ac9e14-7bdd-4a69-a448-b0ef6d1ef864"
      },
      "outputs": [
        {
          "output_type": "stream",
          "name": "stdout",
          "text": [
            "Hello, World!\n"
          ]
        }
      ],
      "source": [
        "def greet():\n",
        "    print(\"Hello, World!\")\n",
        "\n",
        "\n",
        "\n",
        "# don't modify below this line\n",
        "greet()\n"
      ]
    },
    {
      "cell_type": "markdown",
      "id": "a0529f6e-7125-4d0d-baa7-d2175b7c6761",
      "metadata": {
        "id": "a0529f6e-7125-4d0d-baa7-d2175b7c6761"
      },
      "source": [
        "Q2: There is a bug in the code below. Can you fix it so that the output is:\n",
        "\n",
        "```\n",
        "\n",
        "10\n",
        "\n",
        "20\n",
        "\n",
        "```"
      ]
    },
    {
      "cell_type": "code",
      "execution_count": 3,
      "id": "6cf7c778-c093-4e4b-a4d2-98f776752d5b",
      "metadata": {
        "colab": {
          "base_uri": "https://localhost:8080/",
          "height": 0
        },
        "id": "6cf7c778-c093-4e4b-a4d2-98f776752d5b",
        "outputId": "f2161d94-630e-4398-ab08-430f5728af06"
      },
      "outputs": [
        {
          "output_type": "stream",
          "name": "stdout",
          "text": [
            "10\n",
            "20\n"
          ]
        }
      ],
      "source": [
        "\n",
        "def print_number(k):\n",
        "     print(k)\n",
        "print_number(10)\n",
        "\n",
        "print_number(20)\n"
      ]
    },
    {
      "cell_type": "markdown",
      "id": "928f9aaf-b5c1-4d9c-97eb-19cd5c8c070e",
      "metadata": {
        "id": "928f9aaf-b5c1-4d9c-97eb-19cd5c8c070e"
      },
      "source": [
        "Q3: n the code, define a function called farewell, which takes a single parameter. The function should print \"Goodbye, \" followed by the parameter. Then use this function so that the output is:\n",
        "\n",
        "```\n",
        "\n",
        "Goodbye, Bob\n",
        "\n",
        "Goodbye, Charlie\n",
        "\n",
        "Goodbye, Lisa\n",
        "\n",
        "```"
      ]
    },
    {
      "cell_type": "code",
      "execution_count": 6,
      "id": "ee47b876-4e76-40e2-b88c-c4c5ec28178f",
      "metadata": {
        "colab": {
          "base_uri": "https://localhost:8080/",
          "height": 0
        },
        "id": "ee47b876-4e76-40e2-b88c-c4c5ec28178f",
        "outputId": "3560966e-1eff-404d-bb42-fb595160c927"
      },
      "outputs": [
        {
          "output_type": "stream",
          "name": "stdout",
          "text": [
            "Goodbye, Bob\n",
            "Goodbye, Charlie\n",
            "Goodbye, Lisa\n"
          ]
        }
      ],
      "source": [
        "def farewell(adios_name):\n",
        "  print(f'Goodbye, {adios_name}')\n",
        "farewell(\"Bob\")\n",
        "farewell(\"Charlie\")\n",
        "\n",
        "\n",
        "# don't modify below this line\n",
        "farewell(\"Lisa\")"
      ]
    },
    {
      "cell_type": "markdown",
      "id": "9b180cd2-610d-4b6e-884a-adb15f21920b",
      "metadata": {
        "id": "9b180cd2-610d-4b6e-884a-adb15f21920b"
      },
      "source": [
        "Q4: In the code, define two functions, two_sum, and three_sum. The two_sum  function should take two parameters and print their sum. The three_sum function should take three parameters and print their sum.\n",
        "Finally, call two_sum with the arguments 7, 10 and after that call three_sum with the arguments 3, 5, 8."
      ]
    },
    {
      "cell_type": "code",
      "execution_count": 8,
      "id": "531adc5a-c425-4c1f-a727-7cc99832bf0c",
      "metadata": {
        "colab": {
          "base_uri": "https://localhost:8080/",
          "height": 0
        },
        "id": "531adc5a-c425-4c1f-a727-7cc99832bf0c",
        "outputId": "65957aa3-62f3-4a5d-cddd-af3d2779c515"
      },
      "outputs": [
        {
          "output_type": "stream",
          "name": "stdout",
          "text": [
            "17\n",
            "16\n",
            "19\n",
            "25\n"
          ]
        }
      ],
      "source": [
        "def two_sum(num1, num2):\n",
        "  print(num1 + num2)\n",
        "\n",
        "def three_sum(num1, num2, num3):\n",
        "  print(num1 + num2 + num3)\n",
        "\n",
        "two_sum(7, 10)\n",
        "three_sum(3, 5, 8)\n",
        "# do not modify below this line\n",
        "two_sum(10, 9)\n",
        "three_sum(5, 14, 6)"
      ]
    },
    {
      "cell_type": "markdown",
      "id": "cae35427-ef30-446b-9e98-29dcc439abab",
      "metadata": {
        "id": "cae35427-ef30-446b-9e98-29dcc439abab"
      },
      "source": [
        "Q5: In the code create a function named product that accepts two parameters and returns their product."
      ]
    },
    {
      "cell_type": "code",
      "execution_count": 9,
      "id": "f8989129-9ea0-4011-9d0f-d0ce04ceac6c",
      "metadata": {
        "colab": {
          "base_uri": "https://localhost:8080/",
          "height": 0
        },
        "id": "f8989129-9ea0-4011-9d0f-d0ce04ceac6c",
        "outputId": "a28886d9-94f1-4927-db5f-f8097d599708"
      },
      "outputs": [
        {
          "output_type": "stream",
          "name": "stdout",
          "text": [
            "8\n",
            "16\n",
            "32\n",
            "64\n"
          ]
        }
      ],
      "source": [
        "def product(num1,num2):\n",
        "  return num1 * num2\n",
        "\n",
        "# don't modify below this line\n",
        "print(product(2, 4))\n",
        "print(product(8, 2))\n",
        "print(product(4, 8))\n",
        "print(product(8, 8))"
      ]
    },
    {
      "cell_type": "markdown",
      "id": "19c44087-dab7-4771-80f4-a3239ec88546",
      "metadata": {
        "id": "19c44087-dab7-4771-80f4-a3239ec88546"
      },
      "source": [
        "Q6: In the code, call the function greet with the argument \"Lisa\". Then print the type of the return value of the function.\n",
        "\n",
        "Hint: You can get the type of a value with the type() function."
      ]
    },
    {
      "cell_type": "code",
      "execution_count": 10,
      "id": "c160801d-3a88-4425-b2fe-4746e57ce8c4",
      "metadata": {
        "colab": {
          "base_uri": "https://localhost:8080/",
          "height": 0
        },
        "id": "c160801d-3a88-4425-b2fe-4746e57ce8c4",
        "outputId": "079ab472-6e7c-4e0d-9d2b-71875abce02b"
      },
      "outputs": [
        {
          "output_type": "stream",
          "name": "stdout",
          "text": [
            "Hello, Lisa\n"
          ]
        },
        {
          "output_type": "execute_result",
          "data": {
            "text/plain": [
              "NoneType"
            ]
          },
          "metadata": {},
          "execution_count": 10
        }
      ],
      "source": [
        "def greet(name) :\n",
        "  print(\"Hello, \" + name)\n",
        "\n",
        "type(greet(\"Lisa\"))"
      ]
    },
    {
      "cell_type": "markdown",
      "id": "c8665f62-46bb-4435-9d5e-dbe7916ccc22",
      "metadata": {
        "id": "c8665f62-46bb-4435-9d5e-dbe7916ccc22"
      },
      "source": [
        "Q7: To prove that the variable k inside the function is different than the one outside, consider this code:\n",
        "\n",
        "```\n",
        "\n",
        "def add_one(k):\n",
        "\n",
        "    k = k + 1\n",
        "\n",
        "     print(k)   \n",
        "\n",
        "k = 10\n",
        "\n",
        "add_one(k)    # Output: 11\n",
        "\n",
        "print(k)       # Output: ?\n",
        "\n",
        "```\n",
        "\n",
        "What do you think the output of the last print statement will be? Will it be 10 or 11? Run the code  to find out.\n",
        "\n"
      ]
    },
    {
      "cell_type": "code",
      "execution_count": 11,
      "id": "60545600-0a07-464b-a6b1-1e07471a9d57",
      "metadata": {
        "colab": {
          "base_uri": "https://localhost:8080/",
          "height": 0
        },
        "id": "60545600-0a07-464b-a6b1-1e07471a9d57",
        "outputId": "bdb51496-35df-476a-9450-560da56c2437"
      },
      "outputs": [
        {
          "output_type": "stream",
          "name": "stdout",
          "text": [
            "11\n",
            "10\n"
          ]
        }
      ],
      "source": [
        "def add_one(k):\n",
        "  k = k + 1\n",
        "  print(k)\n",
        "k = 10\n",
        "add_one(k)    # Output: 11\n",
        "print(k)       # Output: ?"
      ]
    },
    {
      "cell_type": "markdown",
      "id": "05914842-e37f-499c-8b32-931a4923e7cc",
      "metadata": {
        "id": "05914842-e37f-499c-8b32-931a4923e7cc"
      },
      "source": [
        "Q8: There's a bug in the code below, if you try to run it you'll see a NameError. Can you fix it so that the output is:\n",
        "\n",
        "```\n",
        "\n",
        "100\n",
        "\n",
        "100\n",
        "\n",
        "```"
      ]
    },
    {
      "cell_type": "code",
      "execution_count": 12,
      "id": "1e2b098f-cbfd-414e-9d61-1f525f449411",
      "metadata": {
        "colab": {
          "base_uri": "https://localhost:8080/",
          "height": 0
        },
        "id": "1e2b098f-cbfd-414e-9d61-1f525f449411",
        "outputId": "fd21bccf-3659-4775-8e57-cae6a4a8f2c1"
      },
      "outputs": [
        {
          "output_type": "stream",
          "name": "stdout",
          "text": [
            "100\n",
            "100\n"
          ]
        }
      ],
      "source": [
        "k = 100\n",
        "\n",
        "\n",
        "def print_local_variable(num) :\n",
        "    print(num)\n",
        "\n",
        "print_local_variable(k)\n",
        "\n",
        "print(k)"
      ]
    },
    {
      "cell_type": "markdown",
      "id": "bc794b0c-786a-41bc-85b7-32b5b1a9d2d5",
      "metadata": {
        "id": "bc794b0c-786a-41bc-85b7-32b5b1a9d2d5"
      },
      "source": [
        "Q9: In the code below, update the function greet() so that the second parameter has a default value of \"!\"."
      ]
    },
    {
      "cell_type": "code",
      "execution_count": 13,
      "id": "06b8464d-a132-47b1-ba4d-70e206feb130",
      "metadata": {
        "colab": {
          "base_uri": "https://localhost:8080/",
          "height": 0
        },
        "id": "06b8464d-a132-47b1-ba4d-70e206feb130",
        "outputId": "189063b1-3dfd-4939-d95b-f638491dce97"
      },
      "outputs": [
        {
          "output_type": "stream",
          "name": "stdout",
          "text": [
            "Hello, World!\n",
            "Hello, World!\n"
          ]
        }
      ],
      "source": [
        "def greet(name, punctuation = \"!\") :\n",
        "    print(\"Hello, \" + name + punctuation)\n",
        "\n",
        "greet(\"World\", \"!\")\n",
        "greet(\"World\")"
      ]
    },
    {
      "cell_type": "code",
      "source": [],
      "metadata": {
        "id": "PKhfSwKSMCIU"
      },
      "id": "PKhfSwKSMCIU",
      "execution_count": 20,
      "outputs": []
    }
  ],
  "metadata": {
    "kernelspec": {
      "display_name": "Python 3 (ipykernel)",
      "language": "python",
      "name": "python3"
    },
    "language_info": {
      "codemirror_mode": {
        "name": "ipython",
        "version": 3
      },
      "file_extension": ".py",
      "mimetype": "text/x-python",
      "name": "python",
      "nbconvert_exporter": "python",
      "pygments_lexer": "ipython3",
      "version": "3.11.4"
    },
    "colab": {
      "provenance": []
    }
  },
  "nbformat": 4,
  "nbformat_minor": 5
}